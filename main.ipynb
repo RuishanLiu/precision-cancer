{
 "cells": [
  {
   "cell_type": "markdown",
   "id": "lesbian-browse",
   "metadata": {},
   "source": [
    "# Precision-cancer\n",
    "\n",
    "Packages:\n",
    "Numpy version: 1.20.0;\n",
    "Pandas version: 1.2.1;\n",
    "scikit-learn version: 0.24.1;\n",
    "lifelines version: 0.26.0"
   ]
  },
  {
   "cell_type": "code",
   "execution_count": 1,
   "id": "strategic-output",
   "metadata": {},
   "outputs": [],
   "source": [
    "import pandas as pd\n",
    "import numpy as np\n",
    "from lifelines import CoxPHFitter, KaplanMeierFitter\n",
    "from sklearn.linear_model import LogisticRegression\n",
    "import warnings\n",
    "warnings.simplefilter(action='ignore')"
   ]
  },
  {
   "cell_type": "markdown",
   "id": "neural-mention",
   "metadata": {},
   "source": [
    "## Load Synthetic Data\n",
    "\n",
    "For this notebook, we use synthetic data in \"synthetic_data.csv\" as a demonstration of our pipeline. It includes the following features -\n",
    "- Confounders. We note that here is one toy example. In real applications, more confounders and more categories should be included.\n",
    "    - <font color=darkblue>*Gender*</font>: whether the patient is female (=1) or not (=0).\n",
    "    - <font color=darkblue>*Age*</font>: whether age >= 40 (=1) or not (=0).\n",
    "    - <font color=darkblue>*ECOG*</font>: whether ECOG >=3 (=1) or not (=0).\n",
    "- <font color=darkblue>*Mutation status*</font> for Gene A and Gene B.\n",
    "    - Whether the gene is mutated (=1) or not (=0).\n",
    "- <font color=darkblue>*Treatment status*</font> for Treatment 1 and Treatment 2.\n",
    "    - Whether the patient received the treatment (=1) or not (=0).\n",
    "- Survival information\n",
    "    - <font color=darkblue>*duration*</font>: time from start of treatment to event (days).\n",
    "    - <font color=darkblue>*event*</font>: death happened (=1) or right censored (=0)\n",
    "    - <font color=darkblue>*fmi_test*</font>: time from start of treatment to FMI test (days)."
   ]
  },
  {
   "cell_type": "code",
   "execution_count": 2,
   "id": "refined-poultry",
   "metadata": {},
   "outputs": [
    {
     "name": "stdout",
     "output_type": "stream",
     "text": [
      "Number of patients: 3000\n"
     ]
    },
    {
     "data": {
      "text/html": [
       "<div>\n",
       "<style scoped>\n",
       "    .dataframe tbody tr th:only-of-type {\n",
       "        vertical-align: middle;\n",
       "    }\n",
       "\n",
       "    .dataframe tbody tr th {\n",
       "        vertical-align: top;\n",
       "    }\n",
       "\n",
       "    .dataframe thead th {\n",
       "        text-align: right;\n",
       "    }\n",
       "</style>\n",
       "<table border=\"1\" class=\"dataframe\">\n",
       "  <thead>\n",
       "    <tr style=\"text-align: right;\">\n",
       "      <th></th>\n",
       "      <th>Female</th>\n",
       "      <th>Age &gt;= 40</th>\n",
       "      <th>ECOG &gt;= 3</th>\n",
       "      <th>Gene A</th>\n",
       "      <th>Gene B</th>\n",
       "      <th>Treatment 1</th>\n",
       "      <th>Treatment 2</th>\n",
       "      <th>duration</th>\n",
       "      <th>event</th>\n",
       "      <th>fmi_test</th>\n",
       "    </tr>\n",
       "  </thead>\n",
       "  <tbody>\n",
       "    <tr>\n",
       "      <th>0</th>\n",
       "      <td>1</td>\n",
       "      <td>1</td>\n",
       "      <td>0</td>\n",
       "      <td>0</td>\n",
       "      <td>0</td>\n",
       "      <td>0</td>\n",
       "      <td>1</td>\n",
       "      <td>439</td>\n",
       "      <td>1</td>\n",
       "      <td>31</td>\n",
       "    </tr>\n",
       "    <tr>\n",
       "      <th>1</th>\n",
       "      <td>1</td>\n",
       "      <td>1</td>\n",
       "      <td>1</td>\n",
       "      <td>1</td>\n",
       "      <td>0</td>\n",
       "      <td>1</td>\n",
       "      <td>0</td>\n",
       "      <td>258</td>\n",
       "      <td>0</td>\n",
       "      <td>9</td>\n",
       "    </tr>\n",
       "    <tr>\n",
       "      <th>2</th>\n",
       "      <td>1</td>\n",
       "      <td>1</td>\n",
       "      <td>1</td>\n",
       "      <td>1</td>\n",
       "      <td>1</td>\n",
       "      <td>0</td>\n",
       "      <td>1</td>\n",
       "      <td>132</td>\n",
       "      <td>1</td>\n",
       "      <td>31</td>\n",
       "    </tr>\n",
       "    <tr>\n",
       "      <th>3</th>\n",
       "      <td>0</td>\n",
       "      <td>0</td>\n",
       "      <td>0</td>\n",
       "      <td>0</td>\n",
       "      <td>0</td>\n",
       "      <td>0</td>\n",
       "      <td>1</td>\n",
       "      <td>62</td>\n",
       "      <td>1</td>\n",
       "      <td>28</td>\n",
       "    </tr>\n",
       "    <tr>\n",
       "      <th>4</th>\n",
       "      <td>0</td>\n",
       "      <td>0</td>\n",
       "      <td>0</td>\n",
       "      <td>0</td>\n",
       "      <td>0</td>\n",
       "      <td>0</td>\n",
       "      <td>1</td>\n",
       "      <td>46</td>\n",
       "      <td>1</td>\n",
       "      <td>32</td>\n",
       "    </tr>\n",
       "  </tbody>\n",
       "</table>\n",
       "</div>"
      ],
      "text/plain": [
       "   Female  Age >= 40  ECOG >= 3  Gene A  Gene B  Treatment 1  Treatment 2  \\\n",
       "0       1          1          0       0       0            0            1   \n",
       "1       1          1          1       1       0            1            0   \n",
       "2       1          1          1       1       1            0            1   \n",
       "3       0          0          0       0       0            0            1   \n",
       "4       0          0          0       0       0            0            1   \n",
       "\n",
       "   duration  event  fmi_test  \n",
       "0       439      1        31  \n",
       "1       258      0         9  \n",
       "2       132      1        31  \n",
       "3        62      1        28  \n",
       "4        46      1        32  "
      ]
     },
     "execution_count": 2,
     "metadata": {},
     "output_type": "execute_result"
    }
   ],
   "source": [
    "data_cox = pd.read_csv('synthetic_data.csv')\n",
    "print('Number of patients: %d' % data_cox.shape[0])\n",
    "cols_basic = ['duration', 'event', 'fmi_test'] # Basic infomation for survival analysis\n",
    "confounders = ['Female', 'Age >= 40', 'ECOG >= 3'] # Confounders\n",
    "data_cox.head()"
   ]
  },
  {
   "cell_type": "markdown",
   "id": "super-designation",
   "metadata": {},
   "source": [
    "## Analysis"
   ]
  },
  {
   "cell_type": "code",
   "execution_count": 3,
   "id": "centered-vocabulary",
   "metadata": {},
   "outputs": [],
   "source": [
    "def process_HR(cph_summary, name_feature):\n",
    "    '''\n",
    "    Process result of CoxPH model to HR with 95% confidence intervals.\n",
    "    '''\n",
    "    result = cph_summary.loc[name_feature, ['exp(coef)', 'exp(coef) lower 95%', 'exp(coef) upper 95%']].values\n",
    "    HR = '%.2f (%.2f, %.2f)' % tuple(result)   \n",
    "    return HR\n",
    "    \n",
    "def Cox_IPTW(data_fit, name_feature):\n",
    "    '''\n",
    "    Uni-covariate CoxPH model with IPTW and left-truncation. \n",
    "    name_feature is the feature we are interested in (e.g., gene name or treatment name).\n",
    "    Return the HR for name_feature.\n",
    "    '''\n",
    "    # Generate data used in Cox Regression with IPTW Weights\n",
    "    data_confounders = data_fit.iloc[:, 3:].copy().drop(columns=[name_feature])\n",
    "    df = pd.concat([data_fit.iloc[:, :3], data_fit[[name_feature]]], axis=1)\n",
    "    X = data_confounders.values\n",
    "    y = data_fit[name_feature].values\n",
    "    model = LogisticRegression(solver='lbfgs', n_jobs=-1, class_weight='balanced')\n",
    "    model.fit(X, y)\n",
    "    p_treated = float(np.sum(y==1))/y.shape[0]\n",
    "    propensity_scores = model.predict_proba(X)[:, 1]\n",
    "    sample_weight = np.ones(y.shape[0])\n",
    "    sample_weight[y==0] = p_treated / (1-p_treated) \n",
    "    df['weights'] = 0\n",
    "    IP_treated = 1 / propensity_scores\n",
    "    IP_untreated = 1 / (1 - propensity_scores)        \n",
    "    df.loc[df[name_feature]==1, 'weights'] = IP_treated[df[name_feature]==1]\n",
    "    df.loc[df[name_feature]==0, 'weights'] = IP_untreated[df[name_feature]==0]    \n",
    "    # Cox Regression\n",
    "    cph = CoxPHFitter()\n",
    "    cph.fit(df, 'duration', 'event', weights_col='weights', entry_col='fmi_test', robust=True)\n",
    "    HR = process_HR(cph.summary, name_feature)\n",
    "    return HR"
   ]
  },
  {
   "cell_type": "markdown",
   "id": "tough-drunk",
   "metadata": {},
   "source": [
    "### 1. Association between mutations and patient survival.\n",
    "\n",
    "Here we study the prognostic effects of mutations in Gene A on overall survival (OS) and report the OS HR."
   ]
  },
  {
   "cell_type": "code",
   "execution_count": 4,
   "id": "bored-soldier",
   "metadata": {},
   "outputs": [
    {
     "name": "stdout",
     "output_type": "stream",
     "text": [
      "OS HR for Gene A: 1.09 (1.01, 1.19)\n"
     ]
    }
   ],
   "source": [
    "data_fit = data_cox[cols_basic+confounders+['Gene A']]\n",
    "HR = Cox_IPTW(data_fit, 'Gene A')\n",
    "print('OS HR for Gene A: %s' % (HR))"
   ]
  },
  {
   "cell_type": "markdown",
   "id": "varied-funds",
   "metadata": {},
   "source": [
    "### 2. Gene-treatment interactions\n",
    "\n",
    "Here we use analyze the interaction between mutations of Gene A and Treatment 1."
   ]
  },
  {
   "cell_type": "code",
   "execution_count": 5,
   "id": "separate-oklahoma",
   "metadata": {},
   "outputs": [],
   "source": [
    "gene = 'Gene A'\n",
    "treatment = 'Treatment 1'"
   ]
  },
  {
   "cell_type": "markdown",
   "id": "imperial-meter",
   "metadata": {},
   "source": [
    "##### Interaction\n",
    "\n",
    "Interaction: exp(coef) for the drug-treatment interaction term in the Cox model, adjusted by patient confounders."
   ]
  },
  {
   "cell_type": "code",
   "execution_count": 6,
   "id": "false-innocent",
   "metadata": {},
   "outputs": [
    {
     "name": "stdout",
     "output_type": "stream",
     "text": [
      "Interaction between Gene A and Treatment 1 is 0.65 (0.55, 0.77)\n"
     ]
    }
   ],
   "source": [
    "data_fit = data_cox[cols_basic+[gene, treatment]]\n",
    "col_inter = '%s+%s'%(gene, treatment)\n",
    "data_fit[col_inter] = data_fit[gene]*data_fit[treatment]\n",
    "cph = CoxPHFitter()\n",
    "cph.fit(data_fit, 'duration', 'event', entry_col='fmi_test', robust=True)\n",
    "HR = process_HR(cph.summary, col_inter)\n",
    "print('Interaction between Gene A and Treatment 1 is %s' % HR)"
   ]
  },
  {
   "cell_type": "markdown",
   "id": "norwegian-maryland",
   "metadata": {},
   "source": [
    "##### Gene-centric\n",
    "- <font color=darkblue>*HR for gene mutation*</font>: for all patients with mutations of Gene A, OS HR for patients who received Treatment 1 vs. patients who did not take Treatment 1.\n",
    "- <font color=darkblue>*HR for absence of gene mutation*</font>: for all patients *without* mutations of Gene A, OS HR for patients who received Treatment 1 vs. patients who did not take Treatment 1."
   ]
  },
  {
   "cell_type": "code",
   "execution_count": 7,
   "id": "impossible-defeat",
   "metadata": {},
   "outputs": [
    {
     "name": "stdout",
     "output_type": "stream",
     "text": [
      "Treatment HR for patients with mutations of Gene A = 0.79 (0.69, 0.89)\n",
      "Treatment HR for patients without mutations of Gene A = 1.20 (1.08, 1.34)\n"
     ]
    }
   ],
   "source": [
    "data_fit = data_cox.loc[data_cox[gene]==1, cols_basic+confounders+[treatment]].copy()\n",
    "HR = Cox_IPTW(data_fit, treatment)\n",
    "print('Treatment HR for patients with mutations of Gene A = %s' % HR)\n",
    "\n",
    "data_fit = data_cox.loc[data_cox[gene]==0, cols_basic+confounders+[treatment]].copy()\n",
    "HR = Cox_IPTW(data_fit, treatment)\n",
    "print('Treatment HR for patients without mutations of Gene A = %s' % HR)"
   ]
  },
  {
   "cell_type": "markdown",
   "id": "pleased-miller",
   "metadata": {},
   "source": [
    "##### Drug-centric\n",
    "\n",
    "- <font color=darkblue>*HR given drug*</font>: for all patients who received Treatment 1, HR for patients with mutations of Gene A vs. patients without mutations of Gene A.\n",
    "- <font color=darkblue>*HR given other drugs*</font>: for all patients who received other treatments, HR for patients with mutations of Gene A vs. patients without mutations of Gene A."
   ]
  },
  {
   "cell_type": "code",
   "execution_count": 8,
   "id": "spread-ground",
   "metadata": {},
   "outputs": [
    {
     "name": "stdout",
     "output_type": "stream",
     "text": [
      "Gene A mutation HR for patients who received Treatment 1 = 0.90 (0.81, 1.01)\n",
      "Gene A mutation HR for patients who didn't receive Treatment 1 = 1.41 (1.24, 1.60)\n"
     ]
    }
   ],
   "source": [
    "data_fit = data_cox.loc[data_cox[treatment]==1, cols_basic+confounders+[gene]].copy()\n",
    "HR = Cox_IPTW(data_fit, gene)\n",
    "print('Gene A mutation HR for patients who received Treatment 1 = %s' % HR)\n",
    "\n",
    "data_fit = data_cox.loc[data_cox[treatment]==0, cols_basic+confounders+[gene]].copy()\n",
    "HR = Cox_IPTW(data_fit, gene)\n",
    "print('Gene A mutation HR for patients who didn\\'t receive Treatment 1 = %s' % HR)"
   ]
  },
  {
   "cell_type": "markdown",
   "id": "understanding-sense",
   "metadata": {},
   "source": [
    "### 3. Mutation-mutation interactions\n",
    "\n",
    "Here we study the mutation-mutation interactions that modify the effect of anchor Gene A.\n",
    "For patients with anchor gene (Gene A) positive, we extracted the OS HR by comparing cohorts with modifier gene (Gene B) mutation-positive vs. modifier gene (Gene B) mutation-negative."
   ]
  },
  {
   "cell_type": "code",
   "execution_count": 9,
   "id": "undefined-joshua",
   "metadata": {},
   "outputs": [
    {
     "name": "stdout",
     "output_type": "stream",
     "text": [
      "modifier gene HR for anchor gene positive: 0.85 (0.75, 0.97)\n"
     ]
    }
   ],
   "source": [
    "gene_anchor = 'Gene A'\n",
    "gene_modifier = 'Gene B' \n",
    "data_fit = data_cox.loc[data_cox[gene_anchor]==1, cols_basic+confounders+[gene_modifier]]\n",
    "HR = Cox_IPTW(data_fit, gene_modifier)\n",
    "print('modifier gene HR for anchor gene positive: %s' % HR)"
   ]
  },
  {
   "cell_type": "code",
   "execution_count": null,
   "id": "tropical-finland",
   "metadata": {},
   "outputs": [],
   "source": []
  }
 ],
 "metadata": {
  "kernelspec": {
   "display_name": "Python 3",
   "language": "python",
   "name": "python3"
  },
  "language_info": {
   "codemirror_mode": {
    "name": "ipython",
    "version": 3
   },
   "file_extension": ".py",
   "mimetype": "text/x-python",
   "name": "python",
   "nbconvert_exporter": "python",
   "pygments_lexer": "ipython3",
   "version": "3.8.6"
  }
 },
 "nbformat": 4,
 "nbformat_minor": 5
}
